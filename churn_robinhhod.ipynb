{
  "nbformat": 4,
  "nbformat_minor": 0,
  "metadata": {
    "colab": {
      "name": "churn_robinhhod.ipynb",
      "provenance": [],
      "collapsed_sections": [],
      "mount_file_id": "1OgfdhSuDlaEBFvA6puDBya2Xwqgd2SKd",
      "authorship_tag": "ABX9TyNtJpylO7/D5azgpTHTOI2x",
      "include_colab_link": true
    },
    "kernelspec": {
      "name": "python3",
      "display_name": "Python 3"
    },
    "language_info": {
      "name": "python"
    }
  },
  "cells": [
    {
      "cell_type": "markdown",
      "metadata": {
        "id": "view-in-github",
        "colab_type": "text"
      },
      "source": [
        "<a href=\"https://colab.research.google.com/github/Yadukrishnan1/Fraud-Detection/blob/main/churn_robinhhod.ipynb\" target=\"_parent\"><img src=\"https://colab.research.google.com/assets/colab-badge.svg\" alt=\"Open In Colab\"/></a>"
      ]
    },
    {
      "cell_type": "markdown",
      "metadata": {
        "id": "-8h_981lQ25m"
      },
      "source": [
        "# What is Churn?\n",
        "\n",
        "Churn rate is calculated by dividing the number of customer cancellations within a time period by the number of active customers at the start of that period. Very valuable insights can be gathered from this simple analysis — for example, the overall churn rate can provide a benchmark against which to measure the impact of a model. And knowing how churn rate varies by time of the week or month, product line, or customer cohort can help inform simple customer segments for targeting as well.\n",
        "\n",
        "However, churn is often needed at more granular customer level. Customers vary in their behaviors and preferences, which in turn influence their satisfaction or desire to cancel service. Therefore, a cohort-based churn rate may not be enough for precise targeting or real-time risk prediction. This is where churn modeling is usually most useful.\n",
        "\n",
        "The output of a predictive churn model is a measure of the immediate or future risk of a customer cancellation. This is what the term \"churn modeling\" most often refers to, and is the definition we will adhere to in this post."
      ]
    },
    {
      "cell_type": "code",
      "metadata": {
        "id": "bnFHRX90DcLt"
      },
      "source": [
        "import numpy as np\n",
        "import math\n",
        "import pandas as pd\n",
        "import matplotlib.pyplot as plt\n",
        "import seaborn as sns\n",
        "\n",
        "\n",
        "# Scikit-learn for ML prediction and modelling\n",
        "\n",
        "from sklearn.preprocessing import StandardScaler\n",
        "import sklearn\n",
        "from sklearn.metrics import mean_squared_error, f1_score, roc_curve, auc, roc_auc_score, confusion_matrix\n",
        "from sklearn.model_selection import train_test_split\n",
        "from sklearn import tree\n",
        "from mpl_toolkits import mplot3d\n",
        "from sklearn.preprocessing import OneHotEncoder, OrdinalEncoder, LabelEncoder\n",
        "from sklearn.linear_model import LinearRegression, LogisticRegression, LogisticRegressionCV\n",
        "from sklearn.tree import DecisionTreeClassifier\n",
        "from sklearn.ensemble import RandomForestClassifier\n",
        "from sklearn.model_selection import cross_val_score, GridSearchCV, train_test_split, KFold, RandomizedSearchCV\n",
        "\n",
        "from xgboost.sklearn import XGBRegressor, XGBClassifier\n",
        "import xgboost as xgb\n",
        "\n",
        "from os import path\n",
        "\n",
        "%matplotlib inline"
      ],
      "execution_count": 470,
      "outputs": []
    },
    {
      "cell_type": "code",
      "metadata": {
        "id": "Q2N1uezkCCMQ"
      },
      "source": [
        "import imblearn"
      ],
      "execution_count": 471,
      "outputs": []
    },
    {
      "cell_type": "code",
      "metadata": {
        "id": "jMw_TO98DjZo"
      },
      "source": [
        "PATH=\"/content/drive/MyDrive/Colab Notebooks/Robinhood/\""
      ],
      "execution_count": 472,
      "outputs": []
    },
    {
      "cell_type": "code",
      "metadata": {
        "id": "m79Zmh-7EC20"
      },
      "source": [
        "feat_df=pd.read_csv(\"/content/drive/MyDrive/Colab Notebooks/Robinhood/features_data.csv\")\n",
        "eq_df=pd.read_csv(\"/content/drive/MyDrive/Colab Notebooks/Robinhood/equity_value_data.csv\")"
      ],
      "execution_count": 473,
      "outputs": []
    },
    {
      "cell_type": "code",
      "metadata": {
        "colab": {
          "base_uri": "https://localhost:8080/",
          "height": 232
        },
        "id": "IG96rGfFF1Ay",
        "outputId": "b2c5aa33-a6c1-43bd-bcd7-f235099f9b0a"
      },
      "source": [
        "print(eq_df.shape, '\\n')\n",
        "eq_df.head()"
      ],
      "execution_count": 474,
      "outputs": [
        {
          "output_type": "stream",
          "name": "stdout",
          "text": [
            "(1119158, 3) \n",
            "\n"
          ]
        },
        {
          "output_type": "execute_result",
          "data": {
            "text/html": [
              "<div>\n",
              "<style scoped>\n",
              "    .dataframe tbody tr th:only-of-type {\n",
              "        vertical-align: middle;\n",
              "    }\n",
              "\n",
              "    .dataframe tbody tr th {\n",
              "        vertical-align: top;\n",
              "    }\n",
              "\n",
              "    .dataframe thead th {\n",
              "        text-align: right;\n",
              "    }\n",
              "</style>\n",
              "<table border=\"1\" class=\"dataframe\">\n",
              "  <thead>\n",
              "    <tr style=\"text-align: right;\">\n",
              "      <th></th>\n",
              "      <th>timestamp</th>\n",
              "      <th>close_equity</th>\n",
              "      <th>user_id</th>\n",
              "    </tr>\n",
              "  </thead>\n",
              "  <tbody>\n",
              "    <tr>\n",
              "      <th>0</th>\n",
              "      <td>2016-11-16T00:00:00Z</td>\n",
              "      <td>48.16</td>\n",
              "      <td>bcef4fa9b0bdf22bcf7deae708decf03</td>\n",
              "    </tr>\n",
              "    <tr>\n",
              "      <th>1</th>\n",
              "      <td>2016-11-17T00:00:00Z</td>\n",
              "      <td>48.16</td>\n",
              "      <td>bcef4fa9b0bdf22bcf7deae708decf03</td>\n",
              "    </tr>\n",
              "    <tr>\n",
              "      <th>2</th>\n",
              "      <td>2016-11-18T00:00:00Z</td>\n",
              "      <td>48.16</td>\n",
              "      <td>bcef4fa9b0bdf22bcf7deae708decf03</td>\n",
              "    </tr>\n",
              "    <tr>\n",
              "      <th>3</th>\n",
              "      <td>2016-11-21T00:00:00Z</td>\n",
              "      <td>48.16</td>\n",
              "      <td>bcef4fa9b0bdf22bcf7deae708decf03</td>\n",
              "    </tr>\n",
              "    <tr>\n",
              "      <th>4</th>\n",
              "      <td>2016-11-22T00:00:00Z</td>\n",
              "      <td>48.16</td>\n",
              "      <td>bcef4fa9b0bdf22bcf7deae708decf03</td>\n",
              "    </tr>\n",
              "  </tbody>\n",
              "</table>\n",
              "</div>"
            ],
            "text/plain": [
              "              timestamp  close_equity                           user_id\n",
              "0  2016-11-16T00:00:00Z         48.16  bcef4fa9b0bdf22bcf7deae708decf03\n",
              "1  2016-11-17T00:00:00Z         48.16  bcef4fa9b0bdf22bcf7deae708decf03\n",
              "2  2016-11-18T00:00:00Z         48.16  bcef4fa9b0bdf22bcf7deae708decf03\n",
              "3  2016-11-21T00:00:00Z         48.16  bcef4fa9b0bdf22bcf7deae708decf03\n",
              "4  2016-11-22T00:00:00Z         48.16  bcef4fa9b0bdf22bcf7deae708decf03"
            ]
          },
          "metadata": {},
          "execution_count": 474
        }
      ]
    },
    {
      "cell_type": "code",
      "metadata": {
        "colab": {
          "base_uri": "https://localhost:8080/"
        },
        "id": "zd8t-G6EGF1m",
        "outputId": "ead54634-4705-47af-ca3c-836b23b5011a"
      },
      "source": [
        "eq_df.isna().sum()"
      ],
      "execution_count": 475,
      "outputs": [
        {
          "output_type": "execute_result",
          "data": {
            "text/plain": [
              "timestamp       0\n",
              "close_equity    0\n",
              "user_id         0\n",
              "dtype: int64"
            ]
          },
          "metadata": {},
          "execution_count": 475
        }
      ]
    },
    {
      "cell_type": "code",
      "metadata": {
        "colab": {
          "base_uri": "https://localhost:8080/"
        },
        "id": "_H9c897wHlBk",
        "outputId": "a3ab114a-30f5-456e-8be2-b07f1f6803ee"
      },
      "source": [
        "eq_df.timestamp=pd.to_datetime(eq_df.timestamp, errors='coerce')\n",
        "eq_df.nunique()"
      ],
      "execution_count": 476,
      "outputs": [
        {
          "output_type": "execute_result",
          "data": {
            "text/plain": [
              "timestamp          255\n",
              "close_equity    531483\n",
              "user_id           5584\n",
              "dtype: int64"
            ]
          },
          "metadata": {},
          "execution_count": 476
        }
      ]
    },
    {
      "cell_type": "code",
      "metadata": {
        "colab": {
          "base_uri": "https://localhost:8080/",
          "height": 351
        },
        "id": "MxxRX5htSCDD",
        "outputId": "fb101f6b-8614-4f0d-c629-d5fc1d428036"
      },
      "source": [
        "eq_df['gap_days'] = eq_df.timestamp.diff()\n",
        "eq_df.head(10)"
      ],
      "execution_count": 477,
      "outputs": [
        {
          "output_type": "execute_result",
          "data": {
            "text/html": [
              "<div>\n",
              "<style scoped>\n",
              "    .dataframe tbody tr th:only-of-type {\n",
              "        vertical-align: middle;\n",
              "    }\n",
              "\n",
              "    .dataframe tbody tr th {\n",
              "        vertical-align: top;\n",
              "    }\n",
              "\n",
              "    .dataframe thead th {\n",
              "        text-align: right;\n",
              "    }\n",
              "</style>\n",
              "<table border=\"1\" class=\"dataframe\">\n",
              "  <thead>\n",
              "    <tr style=\"text-align: right;\">\n",
              "      <th></th>\n",
              "      <th>timestamp</th>\n",
              "      <th>close_equity</th>\n",
              "      <th>user_id</th>\n",
              "      <th>gap_days</th>\n",
              "    </tr>\n",
              "  </thead>\n",
              "  <tbody>\n",
              "    <tr>\n",
              "      <th>0</th>\n",
              "      <td>2016-11-16 00:00:00+00:00</td>\n",
              "      <td>48.16</td>\n",
              "      <td>bcef4fa9b0bdf22bcf7deae708decf03</td>\n",
              "      <td>NaT</td>\n",
              "    </tr>\n",
              "    <tr>\n",
              "      <th>1</th>\n",
              "      <td>2016-11-17 00:00:00+00:00</td>\n",
              "      <td>48.16</td>\n",
              "      <td>bcef4fa9b0bdf22bcf7deae708decf03</td>\n",
              "      <td>1 days</td>\n",
              "    </tr>\n",
              "    <tr>\n",
              "      <th>2</th>\n",
              "      <td>2016-11-18 00:00:00+00:00</td>\n",
              "      <td>48.16</td>\n",
              "      <td>bcef4fa9b0bdf22bcf7deae708decf03</td>\n",
              "      <td>1 days</td>\n",
              "    </tr>\n",
              "    <tr>\n",
              "      <th>3</th>\n",
              "      <td>2016-11-21 00:00:00+00:00</td>\n",
              "      <td>48.16</td>\n",
              "      <td>bcef4fa9b0bdf22bcf7deae708decf03</td>\n",
              "      <td>3 days</td>\n",
              "    </tr>\n",
              "    <tr>\n",
              "      <th>4</th>\n",
              "      <td>2016-11-22 00:00:00+00:00</td>\n",
              "      <td>48.16</td>\n",
              "      <td>bcef4fa9b0bdf22bcf7deae708decf03</td>\n",
              "      <td>1 days</td>\n",
              "    </tr>\n",
              "    <tr>\n",
              "      <th>5</th>\n",
              "      <td>2016-11-23 00:00:00+00:00</td>\n",
              "      <td>48.16</td>\n",
              "      <td>bcef4fa9b0bdf22bcf7deae708decf03</td>\n",
              "      <td>1 days</td>\n",
              "    </tr>\n",
              "    <tr>\n",
              "      <th>6</th>\n",
              "      <td>2016-11-25 00:00:00+00:00</td>\n",
              "      <td>48.16</td>\n",
              "      <td>bcef4fa9b0bdf22bcf7deae708decf03</td>\n",
              "      <td>2 days</td>\n",
              "    </tr>\n",
              "    <tr>\n",
              "      <th>7</th>\n",
              "      <td>2016-11-28 00:00:00+00:00</td>\n",
              "      <td>48.16</td>\n",
              "      <td>bcef4fa9b0bdf22bcf7deae708decf03</td>\n",
              "      <td>3 days</td>\n",
              "    </tr>\n",
              "    <tr>\n",
              "      <th>8</th>\n",
              "      <td>2016-11-29 00:00:00+00:00</td>\n",
              "      <td>48.16</td>\n",
              "      <td>bcef4fa9b0bdf22bcf7deae708decf03</td>\n",
              "      <td>1 days</td>\n",
              "    </tr>\n",
              "    <tr>\n",
              "      <th>9</th>\n",
              "      <td>2016-11-30 00:00:00+00:00</td>\n",
              "      <td>48.16</td>\n",
              "      <td>bcef4fa9b0bdf22bcf7deae708decf03</td>\n",
              "      <td>1 days</td>\n",
              "    </tr>\n",
              "  </tbody>\n",
              "</table>\n",
              "</div>"
            ],
            "text/plain": [
              "                  timestamp  ...  gap_days\n",
              "0 2016-11-16 00:00:00+00:00  ...       NaT\n",
              "1 2016-11-17 00:00:00+00:00  ...    1 days\n",
              "2 2016-11-18 00:00:00+00:00  ...    1 days\n",
              "3 2016-11-21 00:00:00+00:00  ...    3 days\n",
              "4 2016-11-22 00:00:00+00:00  ...    1 days\n",
              "5 2016-11-23 00:00:00+00:00  ...    1 days\n",
              "6 2016-11-25 00:00:00+00:00  ...    2 days\n",
              "7 2016-11-28 00:00:00+00:00  ...    3 days\n",
              "8 2016-11-29 00:00:00+00:00  ...    1 days\n",
              "9 2016-11-30 00:00:00+00:00  ...    1 days\n",
              "\n",
              "[10 rows x 4 columns]"
            ]
          },
          "metadata": {},
          "execution_count": 477
        }
      ]
    },
    {
      "cell_type": "code",
      "metadata": {
        "colab": {
          "base_uri": "https://localhost:8080/"
        },
        "id": "uORdjFLnUOXT",
        "outputId": "1721a72e-d016-4f4e-a29c-4c8d88fcf1b1"
      },
      "source": [
        "# The number of users who have churned\n",
        "\n",
        "churned_user_count=eq_df[eq_df['gap_days']>=pd.Timedelta(\"28 days\")]['user_id'].nunique()\n",
        "churned_user_ids=eq_df[eq_df['gap_days']>=pd.Timedelta(\"28 days\")]['user_id'].unique()\n",
        "print(len(churned_user_ids))\n",
        "\n",
        "# Total users\n",
        "total_users=eq_df['user_id'].nunique()\n",
        "total_user_ids=eq_df['user_id'].unique()\n",
        "print(len(total_user_ids))\n"
      ],
      "execution_count": 478,
      "outputs": [
        {
          "output_type": "stream",
          "name": "stdout",
          "text": [
            "287\n",
            "5584\n"
          ]
        }
      ]
    },
    {
      "cell_type": "code",
      "metadata": {
        "colab": {
          "base_uri": "https://localhost:8080/"
        },
        "id": "uOBUMvISXCf0",
        "outputId": "24c43600-98f4-401a-ba55-6351def4a07e"
      },
      "source": [
        "frac=np.round(100.0*(churned_user_count/total_users), decimals=2)\n",
        "print('Fraction of churned users is {0}%'.format(frac))"
      ],
      "execution_count": 479,
      "outputs": [
        {
          "output_type": "stream",
          "name": "stdout",
          "text": [
            "Fraction of churned users is 5.14%\n"
          ]
        }
      ]
    },
    {
      "cell_type": "code",
      "metadata": {
        "colab": {
          "base_uri": "https://localhost:8080/",
          "height": 1000
        },
        "id": "M0O6JOl0KV6X",
        "outputId": "9d80f3de-ec50-48d4-eca4-e09dfda03330"
      },
      "source": [
        "for i in range(5):\n",
        "    user_eq_df=eq_df[eq_df['user_id']==eq_df[eq_df.columns[2]].unique()[i]]\n",
        "    \n",
        "    plt.figure(figsize=(40,6))\n",
        "    \n",
        "    ts=user_eq_df[\"close_equity\"]\n",
        "    time=user_eq_df[\"timestamp\"]\n",
        "    \n",
        "    plt.xlabel('Date')\n",
        "    plt.ylabel('Equity (Dollars)')\n",
        "    plt.plot(ts, '-', label='User 1');\n",
        "plt.legend()\n",
        "plt.show()"
      ],
      "execution_count": 252,
      "outputs": [
        {
          "output_type": "display_data",
          "data": {
            "image/png": "[encoded data removed]",
            "text/plain": [
              "<Figure size 2880x432 with 1 Axes>"
            ]
          },
          "metadata": {}
        },
        {
          "output_type": "display_data",
          "data": {
            "image/png": "[encoded data removed]",
            "text/plain": [
              "<Figure size 2880x432 with 1 Axes>"
            ]
          },
          "metadata": {}
        },
        {
          "output_type": "display_data",
          "data": {
            "image/png": "[encoded data removed]",
            "text/plain": [
              "<Figure size 2880x432 with 1 Axes>"
            ]
          },
          "metadata": {}
        },
        {
          "output_type": "display_data",
          "data": {
            "image/png": "[encoded data removed]",
            "text/plain": [
              "<Figure size 2880x432 with 1 Axes>"
            ]
          },
          "metadata": {}
        },
        {
          "output_type": "display_data",
          "data": {
            "image/png": "[encoded data removed]",
            "text/plain": [
              "<Figure size 2880x432 with 1 Axes>"
            ]
          },
          "metadata": {}
        }
      ]
    },
    {
      "cell_type": "code",
      "metadata": {
        "colab": {
          "base_uri": "https://localhost:8080/",
          "height": 200
        },
        "id": "KyA8USz8Iodd",
        "outputId": "65b6b900-3f9c-42ab-db6e-d62c106866ed"
      },
      "source": [
        "feat_df.head()"
      ],
      "execution_count": 480,
      "outputs": [
        {
          "output_type": "execute_result",
          "data": {
            "text/html": [
              "<div>\n",
              "<style scoped>\n",
              "    .dataframe tbody tr th:only-of-type {\n",
              "        vertical-align: middle;\n",
              "    }\n",
              "\n",
              "    .dataframe tbody tr th {\n",
              "        vertical-align: top;\n",
              "    }\n",
              "\n",
              "    .dataframe thead th {\n",
              "        text-align: right;\n",
              "    }\n",
              "</style>\n",
              "<table border=\"1\" class=\"dataframe\">\n",
              "  <thead>\n",
              "    <tr style=\"text-align: right;\">\n",
              "      <th></th>\n",
              "      <th>risk_tolerance</th>\n",
              "      <th>investment_experience</th>\n",
              "      <th>liquidity_needs</th>\n",
              "      <th>platform</th>\n",
              "      <th>time_spent</th>\n",
              "      <th>instrument_type_first_traded</th>\n",
              "      <th>first_deposit_amount</th>\n",
              "      <th>time_horizon</th>\n",
              "      <th>user_id</th>\n",
              "    </tr>\n",
              "  </thead>\n",
              "  <tbody>\n",
              "    <tr>\n",
              "      <th>0</th>\n",
              "      <td>high_risk_tolerance</td>\n",
              "      <td>limited_investment_exp</td>\n",
              "      <td>very_important_liq_need</td>\n",
              "      <td>Android</td>\n",
              "      <td>33.129417</td>\n",
              "      <td>stock</td>\n",
              "      <td>40.0</td>\n",
              "      <td>med_time_horizon</td>\n",
              "      <td>895044c23edc821881e87da749c01034</td>\n",
              "    </tr>\n",
              "    <tr>\n",
              "      <th>1</th>\n",
              "      <td>med_risk_tolerance</td>\n",
              "      <td>limited_investment_exp</td>\n",
              "      <td>very_important_liq_need</td>\n",
              "      <td>Android</td>\n",
              "      <td>16.573517</td>\n",
              "      <td>stock</td>\n",
              "      <td>200.0</td>\n",
              "      <td>short_time_horizon</td>\n",
              "      <td>458b1d95441ced242949deefe8e4b638</td>\n",
              "    </tr>\n",
              "    <tr>\n",
              "      <th>2</th>\n",
              "      <td>med_risk_tolerance</td>\n",
              "      <td>limited_investment_exp</td>\n",
              "      <td>very_important_liq_need</td>\n",
              "      <td>iOS</td>\n",
              "      <td>10.008367</td>\n",
              "      <td>stock</td>\n",
              "      <td>25.0</td>\n",
              "      <td>long_time_horizon</td>\n",
              "      <td>c7936f653d293479e034865db9bb932f</td>\n",
              "    </tr>\n",
              "    <tr>\n",
              "      <th>3</th>\n",
              "      <td>med_risk_tolerance</td>\n",
              "      <td>limited_investment_exp</td>\n",
              "      <td>very_important_liq_need</td>\n",
              "      <td>Android</td>\n",
              "      <td>1.031633</td>\n",
              "      <td>stock</td>\n",
              "      <td>100.0</td>\n",
              "      <td>short_time_horizon</td>\n",
              "      <td>b255d4bd6c9ba194d3a350b3e76c6393</td>\n",
              "    </tr>\n",
              "    <tr>\n",
              "      <th>4</th>\n",
              "      <td>high_risk_tolerance</td>\n",
              "      <td>limited_investment_exp</td>\n",
              "      <td>very_important_liq_need</td>\n",
              "      <td>Android</td>\n",
              "      <td>8.187250</td>\n",
              "      <td>stock</td>\n",
              "      <td>20.0</td>\n",
              "      <td>long_time_horizon</td>\n",
              "      <td>4a168225e89375b8de605cbc0977ae91</td>\n",
              "    </tr>\n",
              "  </tbody>\n",
              "</table>\n",
              "</div>"
            ],
            "text/plain": [
              "        risk_tolerance  ...                           user_id\n",
              "0  high_risk_tolerance  ...  895044c23edc821881e87da749c01034\n",
              "1   med_risk_tolerance  ...  458b1d95441ced242949deefe8e4b638\n",
              "2   med_risk_tolerance  ...  c7936f653d293479e034865db9bb932f\n",
              "3   med_risk_tolerance  ...  b255d4bd6c9ba194d3a350b3e76c6393\n",
              "4  high_risk_tolerance  ...  4a168225e89375b8de605cbc0977ae91\n",
              "\n",
              "[5 rows x 9 columns]"
            ]
          },
          "metadata": {},
          "execution_count": 480
        }
      ]
    },
    {
      "cell_type": "code",
      "metadata": {
        "colab": {
          "base_uri": "https://localhost:8080/",
          "height": 200
        },
        "id": "TqfpajTIbT-K",
        "outputId": "02dfd17b-795b-4031-c690-06538cfc1611"
      },
      "source": [
        "churned_df=pd.DataFrame(churned_user_ids, columns=['user_id'])\n",
        "churned_df['churn']=1\n",
        "churned_df.head()"
      ],
      "execution_count": 481,
      "outputs": [
        {
          "output_type": "execute_result",
          "data": {
            "text/html": [
              "<div>\n",
              "<style scoped>\n",
              "    .dataframe tbody tr th:only-of-type {\n",
              "        vertical-align: middle;\n",
              "    }\n",
              "\n",
              "    .dataframe tbody tr th {\n",
              "        vertical-align: top;\n",
              "    }\n",
              "\n",
              "    .dataframe thead th {\n",
              "        text-align: right;\n",
              "    }\n",
              "</style>\n",
              "<table border=\"1\" class=\"dataframe\">\n",
              "  <thead>\n",
              "    <tr style=\"text-align: right;\">\n",
              "      <th></th>\n",
              "      <th>user_id</th>\n",
              "      <th>churn</th>\n",
              "    </tr>\n",
              "  </thead>\n",
              "  <tbody>\n",
              "    <tr>\n",
              "      <th>0</th>\n",
              "      <td>270cda53a026bcf6c2b98492b23c1b99</td>\n",
              "      <td>1</td>\n",
              "    </tr>\n",
              "    <tr>\n",
              "      <th>1</th>\n",
              "      <td>319c069e77187c7e7e7c027eb00fd941</td>\n",
              "      <td>1</td>\n",
              "    </tr>\n",
              "    <tr>\n",
              "      <th>2</th>\n",
              "      <td>ec84f134c5b27c4f5702803e98eb3f40</td>\n",
              "      <td>1</td>\n",
              "    </tr>\n",
              "    <tr>\n",
              "      <th>3</th>\n",
              "      <td>6dbedf7f2972b4f6ea60a15d48cb292c</td>\n",
              "      <td>1</td>\n",
              "    </tr>\n",
              "    <tr>\n",
              "      <th>4</th>\n",
              "      <td>91837d41270b81b267fc205c3e03ee9b</td>\n",
              "      <td>1</td>\n",
              "    </tr>\n",
              "  </tbody>\n",
              "</table>\n",
              "</div>"
            ],
            "text/plain": [
              "                            user_id  churn\n",
              "0  270cda53a026bcf6c2b98492b23c1b99      1\n",
              "1  319c069e77187c7e7e7c027eb00fd941      1\n",
              "2  ec84f134c5b27c4f5702803e98eb3f40      1\n",
              "3  6dbedf7f2972b4f6ea60a15d48cb292c      1\n",
              "4  91837d41270b81b267fc205c3e03ee9b      1"
            ]
          },
          "metadata": {},
          "execution_count": 481
        }
      ]
    },
    {
      "cell_type": "code",
      "metadata": {
        "colab": {
          "base_uri": "https://localhost:8080/",
          "height": 200
        },
        "id": "xBBparZrbomM",
        "outputId": "f7cab73f-7a12-4297-fa74-ed52907bcb91"
      },
      "source": [
        "model_df=feat_df.merge(churned_df, how='left', on='user_id').fillna(0)\n",
        "model_df.head()"
      ],
      "execution_count": 482,
      "outputs": [
        {
          "output_type": "execute_result",
          "data": {
            "text/html": [
              "<div>\n",
              "<style scoped>\n",
              "    .dataframe tbody tr th:only-of-type {\n",
              "        vertical-align: middle;\n",
              "    }\n",
              "\n",
              "    .dataframe tbody tr th {\n",
              "        vertical-align: top;\n",
              "    }\n",
              "\n",
              "    .dataframe thead th {\n",
              "        text-align: right;\n",
              "    }\n",
              "</style>\n",
              "<table border=\"1\" class=\"dataframe\">\n",
              "  <thead>\n",
              "    <tr style=\"text-align: right;\">\n",
              "      <th></th>\n",
              "      <th>risk_tolerance</th>\n",
              "      <th>investment_experience</th>\n",
              "      <th>liquidity_needs</th>\n",
              "      <th>platform</th>\n",
              "      <th>time_spent</th>\n",
              "      <th>instrument_type_first_traded</th>\n",
              "      <th>first_deposit_amount</th>\n",
              "      <th>time_horizon</th>\n",
              "      <th>user_id</th>\n",
              "      <th>churn</th>\n",
              "    </tr>\n",
              "  </thead>\n",
              "  <tbody>\n",
              "    <tr>\n",
              "      <th>0</th>\n",
              "      <td>high_risk_tolerance</td>\n",
              "      <td>limited_investment_exp</td>\n",
              "      <td>very_important_liq_need</td>\n",
              "      <td>Android</td>\n",
              "      <td>33.129417</td>\n",
              "      <td>stock</td>\n",
              "      <td>40.0</td>\n",
              "      <td>med_time_horizon</td>\n",
              "      <td>895044c23edc821881e87da749c01034</td>\n",
              "      <td>0.0</td>\n",
              "    </tr>\n",
              "    <tr>\n",
              "      <th>1</th>\n",
              "      <td>med_risk_tolerance</td>\n",
              "      <td>limited_investment_exp</td>\n",
              "      <td>very_important_liq_need</td>\n",
              "      <td>Android</td>\n",
              "      <td>16.573517</td>\n",
              "      <td>stock</td>\n",
              "      <td>200.0</td>\n",
              "      <td>short_time_horizon</td>\n",
              "      <td>458b1d95441ced242949deefe8e4b638</td>\n",
              "      <td>0.0</td>\n",
              "    </tr>\n",
              "    <tr>\n",
              "      <th>2</th>\n",
              "      <td>med_risk_tolerance</td>\n",
              "      <td>limited_investment_exp</td>\n",
              "      <td>very_important_liq_need</td>\n",
              "      <td>iOS</td>\n",
              "      <td>10.008367</td>\n",
              "      <td>stock</td>\n",
              "      <td>25.0</td>\n",
              "      <td>long_time_horizon</td>\n",
              "      <td>c7936f653d293479e034865db9bb932f</td>\n",
              "      <td>0.0</td>\n",
              "    </tr>\n",
              "    <tr>\n",
              "      <th>3</th>\n",
              "      <td>med_risk_tolerance</td>\n",
              "      <td>limited_investment_exp</td>\n",
              "      <td>very_important_liq_need</td>\n",
              "      <td>Android</td>\n",
              "      <td>1.031633</td>\n",
              "      <td>stock</td>\n",
              "      <td>100.0</td>\n",
              "      <td>short_time_horizon</td>\n",
              "      <td>b255d4bd6c9ba194d3a350b3e76c6393</td>\n",
              "      <td>0.0</td>\n",
              "    </tr>\n",
              "    <tr>\n",
              "      <th>4</th>\n",
              "      <td>high_risk_tolerance</td>\n",
              "      <td>limited_investment_exp</td>\n",
              "      <td>very_important_liq_need</td>\n",
              "      <td>Android</td>\n",
              "      <td>8.187250</td>\n",
              "      <td>stock</td>\n",
              "      <td>20.0</td>\n",
              "      <td>long_time_horizon</td>\n",
              "      <td>4a168225e89375b8de605cbc0977ae91</td>\n",
              "      <td>0.0</td>\n",
              "    </tr>\n",
              "  </tbody>\n",
              "</table>\n",
              "</div>"
            ],
            "text/plain": [
              "        risk_tolerance  ... churn\n",
              "0  high_risk_tolerance  ...   0.0\n",
              "1   med_risk_tolerance  ...   0.0\n",
              "2   med_risk_tolerance  ...   0.0\n",
              "3   med_risk_tolerance  ...   0.0\n",
              "4  high_risk_tolerance  ...   0.0\n",
              "\n",
              "[5 rows x 10 columns]"
            ]
          },
          "metadata": {},
          "execution_count": 482
        }
      ]
    },
    {
      "cell_type": "code",
      "metadata": {
        "colab": {
          "base_uri": "https://localhost:8080/"
        },
        "id": "0_Mk02cVc_da",
        "outputId": "40e1e558-1244-4503-e0ae-1894be79165a"
      },
      "source": [
        "model_df['churn']=model_df['churn'].astype(int)\n",
        "model_df.info()"
      ],
      "execution_count": 483,
      "outputs": [
        {
          "output_type": "stream",
          "name": "stdout",
          "text": [
            "<class 'pandas.core.frame.DataFrame'>\n",
            "Int64Index: 5584 entries, 0 to 5583\n",
            "Data columns (total 10 columns):\n",
            " #   Column                        Non-Null Count  Dtype  \n",
            "---  ------                        --------------  -----  \n",
            " 0   risk_tolerance                5584 non-null   object \n",
            " 1   investment_experience         5584 non-null   object \n",
            " 2   liquidity_needs               5584 non-null   object \n",
            " 3   platform                      5584 non-null   object \n",
            " 4   time_spent                    5584 non-null   float64\n",
            " 5   instrument_type_first_traded  5584 non-null   object \n",
            " 6   first_deposit_amount          5584 non-null   float64\n",
            " 7   time_horizon                  5584 non-null   object \n",
            " 8   user_id                       5584 non-null   object \n",
            " 9   churn                         5584 non-null   int64  \n",
            "dtypes: float64(2), int64(1), object(7)\n",
            "memory usage: 479.9+ KB\n"
          ]
        }
      ]
    },
    {
      "cell_type": "code",
      "metadata": {
        "colab": {
          "base_uri": "https://localhost:8080/"
        },
        "id": "SH2FeZbTdOcL",
        "outputId": "8fd9604e-f8b2-435e-eedc-c1c43cf1f267"
      },
      "source": [
        "model_df.nunique()"
      ],
      "execution_count": 484,
      "outputs": [
        {
          "output_type": "execute_result",
          "data": {
            "text/plain": [
              "risk_tolerance                     3\n",
              "investment_experience              4\n",
              "liquidity_needs                    3\n",
              "platform                           3\n",
              "time_spent                      4502\n",
              "instrument_type_first_traded      11\n",
              "first_deposit_amount             317\n",
              "time_horizon                       3\n",
              "user_id                         5584\n",
              "churn                              2\n",
              "dtype: int64"
            ]
          },
          "metadata": {},
          "execution_count": 484
        }
      ]
    },
    {
      "cell_type": "code",
      "metadata": {
        "colab": {
          "base_uri": "https://localhost:8080/"
        },
        "id": "3iIXTM07eK6N",
        "outputId": "191aac1a-609e-45f2-f6a9-378ac20f781f"
      },
      "source": [
        "model_df.columns"
      ],
      "execution_count": 485,
      "outputs": [
        {
          "output_type": "execute_result",
          "data": {
            "text/plain": [
              "Index(['risk_tolerance', 'investment_experience', 'liquidity_needs',\n",
              "       'platform', 'time_spent', 'instrument_type_first_traded',\n",
              "       'first_deposit_amount', 'time_horizon', 'user_id', 'churn'],\n",
              "      dtype='object')"
            ]
          },
          "metadata": {},
          "execution_count": 485
        }
      ]
    },
    {
      "cell_type": "code",
      "metadata": {
        "colab": {
          "base_uri": "https://localhost:8080/",
          "height": 290
        },
        "id": "EPzzLH4akv3L",
        "outputId": "26968997-bae6-41e4-cf85-77416a92702e"
      },
      "source": [
        "# Scaling of features\n",
        "\n",
        "from sklearn.preprocessing import StandardScaler, RobustScaler\n",
        "\n",
        "std_scaler = StandardScaler()\n",
        "rob_scaler = RobustScaler()\n",
        "\n",
        "# We will use Robust scaler because it's ideal if there are outliers\n",
        "\n",
        "model_df['time_spent'] = rob_scaler.fit_transform(model_df['time_spent'].values.reshape(-1,1))\n",
        "model_df['first_deposit_amount'] = rob_scaler.fit_transform(model_df['first_deposit_amount'].values.reshape(-1,1))\n",
        "\n",
        "model_df.describe()"
      ],
      "execution_count": 486,
      "outputs": [
        {
          "output_type": "execute_result",
          "data": {
            "text/html": [
              "<div>\n",
              "<style scoped>\n",
              "    .dataframe tbody tr th:only-of-type {\n",
              "        vertical-align: middle;\n",
              "    }\n",
              "\n",
              "    .dataframe tbody tr th {\n",
              "        vertical-align: top;\n",
              "    }\n",
              "\n",
              "    .dataframe thead th {\n",
              "        text-align: right;\n",
              "    }\n",
              "</style>\n",
              "<table border=\"1\" class=\"dataframe\">\n",
              "  <thead>\n",
              "    <tr style=\"text-align: right;\">\n",
              "      <th></th>\n",
              "      <th>time_spent</th>\n",
              "      <th>first_deposit_amount</th>\n",
              "      <th>churn</th>\n",
              "    </tr>\n",
              "  </thead>\n",
              "  <tbody>\n",
              "    <tr>\n",
              "      <th>count</th>\n",
              "      <td>5584.000000</td>\n",
              "      <td>5584.000000</td>\n",
              "      <td>5584.000000</td>\n",
              "    </tr>\n",
              "    <tr>\n",
              "      <th>mean</th>\n",
              "      <td>0.679098</td>\n",
              "      <td>1.185704</td>\n",
              "      <td>0.051397</td>\n",
              "    </tr>\n",
              "    <tr>\n",
              "      <th>std</th>\n",
              "      <td>5.006649</td>\n",
              "      <td>4.707385</td>\n",
              "      <td>0.220826</td>\n",
              "    </tr>\n",
              "    <tr>\n",
              "      <th>min</th>\n",
              "      <td>-0.435020</td>\n",
              "      <td>-0.222222</td>\n",
              "      <td>0.000000</td>\n",
              "    </tr>\n",
              "    <tr>\n",
              "      <th>25%</th>\n",
              "      <td>-0.343045</td>\n",
              "      <td>-0.111111</td>\n",
              "      <td>0.000000</td>\n",
              "    </tr>\n",
              "    <tr>\n",
              "      <th>50%</th>\n",
              "      <td>0.000000</td>\n",
              "      <td>0.000000</td>\n",
              "      <td>0.000000</td>\n",
              "    </tr>\n",
              "    <tr>\n",
              "      <th>75%</th>\n",
              "      <td>0.656955</td>\n",
              "      <td>0.888889</td>\n",
              "      <td>0.000000</td>\n",
              "    </tr>\n",
              "    <tr>\n",
              "      <th>max</th>\n",
              "      <td>283.289013</td>\n",
              "      <td>110.888889</td>\n",
              "      <td>1.000000</td>\n",
              "    </tr>\n",
              "  </tbody>\n",
              "</table>\n",
              "</div>"
            ],
            "text/plain": [
              "        time_spent  first_deposit_amount        churn\n",
              "count  5584.000000           5584.000000  5584.000000\n",
              "mean      0.679098              1.185704     0.051397\n",
              "std       5.006649              4.707385     0.220826\n",
              "min      -0.435020             -0.222222     0.000000\n",
              "25%      -0.343045             -0.111111     0.000000\n",
              "50%       0.000000              0.000000     0.000000\n",
              "75%       0.656955              0.888889     0.000000\n",
              "max     283.289013            110.888889     1.000000"
            ]
          },
          "metadata": {},
          "execution_count": 486
        }
      ]
    },
    {
      "cell_type": "code",
      "metadata": {
        "colab": {
          "base_uri": "https://localhost:8080/",
          "height": 200
        },
        "id": "9M68sRLLfaqv",
        "outputId": "033e5490-60a6-4e58-ef7e-15f29a488bf2"
      },
      "source": [
        "cat_df = model_df.select_dtypes(include=['object']).copy()\n",
        "\n",
        "# Encoding the columns\n",
        "\n",
        "enc_make = OrdinalEncoder()\n",
        "\n",
        "cat_df_transformed = enc_make.fit_transform(cat_df)\n",
        "\n",
        "for i,j in enumerate(cat_df.columns):\n",
        "  cat_df[j] = cat_df_transformed.transpose()[i]\n",
        "\n",
        "model_df_1 = model_df.copy()\n",
        "# Adding converted labels to df\n",
        "for i in model_df_1.columns:\n",
        "  if i in cat_df.columns:\n",
        "    model_df_1[i] = cat_df[i]\n",
        "\n",
        "model_df_1.head()"
      ],
      "execution_count": 487,
      "outputs": [
        {
          "output_type": "execute_result",
          "data": {
            "text/html": [
              "<div>\n",
              "<style scoped>\n",
              "    .dataframe tbody tr th:only-of-type {\n",
              "        vertical-align: middle;\n",
              "    }\n",
              "\n",
              "    .dataframe tbody tr th {\n",
              "        vertical-align: top;\n",
              "    }\n",
              "\n",
              "    .dataframe thead th {\n",
              "        text-align: right;\n",
              "    }\n",
              "</style>\n",
              "<table border=\"1\" class=\"dataframe\">\n",
              "  <thead>\n",
              "    <tr style=\"text-align: right;\">\n",
              "      <th></th>\n",
              "      <th>risk_tolerance</th>\n",
              "      <th>investment_experience</th>\n",
              "      <th>liquidity_needs</th>\n",
              "      <th>platform</th>\n",
              "      <th>time_spent</th>\n",
              "      <th>instrument_type_first_traded</th>\n",
              "      <th>first_deposit_amount</th>\n",
              "      <th>time_horizon</th>\n",
              "      <th>user_id</th>\n",
              "      <th>churn</th>\n",
              "    </tr>\n",
              "  </thead>\n",
              "  <tbody>\n",
              "    <tr>\n",
              "      <th>0</th>\n",
              "      <td>0.0</td>\n",
              "      <td>2.0</td>\n",
              "      <td>2.0</td>\n",
              "      <td>0.0</td>\n",
              "      <td>0.634536</td>\n",
              "      <td>8.0</td>\n",
              "      <td>-0.133333</td>\n",
              "      <td>1.0</td>\n",
              "      <td>2970.0</td>\n",
              "      <td>0</td>\n",
              "    </tr>\n",
              "    <tr>\n",
              "      <th>1</th>\n",
              "      <td>2.0</td>\n",
              "      <td>2.0</td>\n",
              "      <td>2.0</td>\n",
              "      <td>0.0</td>\n",
              "      <td>0.100042</td>\n",
              "      <td>8.0</td>\n",
              "      <td>0.222222</td>\n",
              "      <td>2.0</td>\n",
              "      <td>1512.0</td>\n",
              "      <td>0</td>\n",
              "    </tr>\n",
              "    <tr>\n",
              "      <th>2</th>\n",
              "      <td>2.0</td>\n",
              "      <td>2.0</td>\n",
              "      <td>2.0</td>\n",
              "      <td>2.0</td>\n",
              "      <td>-0.111908</td>\n",
              "      <td>8.0</td>\n",
              "      <td>-0.166667</td>\n",
              "      <td>0.0</td>\n",
              "      <td>4326.0</td>\n",
              "      <td>0</td>\n",
              "    </tr>\n",
              "    <tr>\n",
              "      <th>3</th>\n",
              "      <td>2.0</td>\n",
              "      <td>2.0</td>\n",
              "      <td>2.0</td>\n",
              "      <td>0.0</td>\n",
              "      <td>-0.401715</td>\n",
              "      <td>8.0</td>\n",
              "      <td>0.000000</td>\n",
              "      <td>2.0</td>\n",
              "      <td>3854.0</td>\n",
              "      <td>0</td>\n",
              "    </tr>\n",
              "    <tr>\n",
              "      <th>4</th>\n",
              "      <td>0.0</td>\n",
              "      <td>2.0</td>\n",
              "      <td>2.0</td>\n",
              "      <td>0.0</td>\n",
              "      <td>-0.170701</td>\n",
              "      <td>8.0</td>\n",
              "      <td>-0.177778</td>\n",
              "      <td>0.0</td>\n",
              "      <td>1615.0</td>\n",
              "      <td>0</td>\n",
              "    </tr>\n",
              "  </tbody>\n",
              "</table>\n",
              "</div>"
            ],
            "text/plain": [
              "   risk_tolerance  investment_experience  ...  user_id  churn\n",
              "0             0.0                    2.0  ...   2970.0      0\n",
              "1             2.0                    2.0  ...   1512.0      0\n",
              "2             2.0                    2.0  ...   4326.0      0\n",
              "3             2.0                    2.0  ...   3854.0      0\n",
              "4             0.0                    2.0  ...   1615.0      0\n",
              "\n",
              "[5 rows x 10 columns]"
            ]
          },
          "metadata": {},
          "execution_count": 487
        }
      ]
    },
    {
      "cell_type": "markdown",
      "metadata": {
        "id": "ZAYHMgrDhC2_"
      },
      "source": [
        "# **Without removing the imbalance of the classes**"
      ]
    },
    {
      "cell_type": "code",
      "metadata": {
        "colab": {
          "base_uri": "https://localhost:8080/",
          "height": 350
        },
        "id": "AjZUIMJZehXz",
        "outputId": "d3aafe2c-887b-4d98-df7a-6ba0396b9c04"
      },
      "source": [
        "# Class balance\n",
        "\n",
        "print('Churn events fraction in the data :',len(model_df[model_df['churn']==1])/len(model_df)*100)\n",
        "print('Non-churn events fraction in the data :',len(model_df[model_df['churn']==0])/len(model_df)*100)\n",
        "\n",
        "sns.set_theme(style=\"darkgrid\")\n",
        "g=sns.countplot(data=model_df, x='churn')\n",
        "\n",
        "plt.title('Class Distributions \\n (0: No Churn | 1: Churn)', fontsize=14)\n",
        "plt.show()\n",
        "\n",
        "# Class imbalance needs to be taken care before applying model"
      ],
      "execution_count": 488,
      "outputs": [
        {
          "output_type": "stream",
          "name": "stdout",
          "text": [
            "Churn events fraction in the data : 5.139684813753582\n",
            "Non-churn events fraction in the data : 94.86031518624641\n"
          ]
        },
        {
          "output_type": "display_data",
          "data": {
            "image/png": "[encoded data removed]",
            "text/plain": [
              "<Figure size 432x288 with 1 Axes>"
            ]
          },
          "metadata": {}
        }
      ]
    },
    {
      "cell_type": "markdown",
      "metadata": {
        "id": "uF2iHcmULfq5"
      },
      "source": [
        "### K-Fold Stratified cross-validation on imbalanced data"
      ]
    },
    {
      "cell_type": "code",
      "metadata": {
        "colab": {
          "base_uri": "https://localhost:8080/"
        },
        "id": "_-6BttPQK4yK",
        "outputId": "9b69848a-f51b-4855-fccc-27c2fe575769"
      },
      "source": [
        "from sklearn.metrics import mean_squared_error\n",
        "from sklearn.model_selection import StratifiedKFold\n",
        "from sklearn.model_selection import KFold\n",
        "from sklearn.linear_model import LinearRegression, LogisticRegression\n",
        "\n",
        "df=model_df_1#.drop([])\n",
        "\n",
        "FEATURES=list(df.columns[0:9]) # Change the columns according to dataset\n",
        "TARGET='churn'\n",
        "f1score=[]\n",
        "skf = StratifiedKFold(n_splits=5, shuffle=True, random_state=42)\n",
        "\n",
        "for fold, (train_idx, valid_idx) in enumerate(skf.split(df[FEATURES], df[TARGET])):\n",
        "    X_train, X_valid = df.iloc[train_idx], df.iloc[valid_idx]\n",
        "    y_train = X_train[TARGET]\n",
        "    y_valid = X_valid[TARGET]\n",
        "    X_train = X_train.drop(TARGET, axis=1)\n",
        "    X_valid = X_valid.drop(TARGET, axis=1)\n",
        "    \n",
        "    cbr = tree.DecisionTreeClassifier()\n",
        "\n",
        "    cbr =  cbr.fit(X_train, y_train)\n",
        "    y_pred = cbr.predict(X_valid)\n",
        "    f1score.append(f1_score(y_valid, y_pred))\n",
        "    print(f'Fold {fold}: F1: ', f1_score(y_valid, y_pred))"
      ],
      "execution_count": 502,
      "outputs": [
        {
          "output_type": "stream",
          "name": "stdout",
          "text": [
            "Fold 0: F1:  0.030534351145038167\n",
            "Fold 1: F1:  0.07575757575757576\n",
            "Fold 2: F1:  0.10526315789473685\n",
            "Fold 3: F1:  0.043795620437956206\n",
            "Fold 4: F1:  0.10526315789473684\n"
          ]
        }
      ]
    },
    {
      "cell_type": "markdown",
      "metadata": {
        "id": "VW8il8C5LTnE"
      },
      "source": [
        "\n",
        "\n",
        "> Poor performance from imbalanced data. No surprises here.\n",
        "\n",
        "\n",
        "\n"
      ]
    },
    {
      "cell_type": "code",
      "metadata": {
        "colab": {
          "base_uri": "https://localhost:8080/"
        },
        "id": "rQMlwkHihIF8",
        "outputId": "7afaa7cc-5898-4274-80a8-ddf6ed841e1a"
      },
      "source": [
        "# Splitting the data\n",
        "\n",
        "X = model_df_1.drop(columns = ['churn', 'user_id'])\n",
        "y = model_df_1['churn']\n",
        "\n",
        "X_train, X_test, y_train, y_test = train_test_split(X, y, test_size=0.2, random_state=42)\n",
        "\n",
        "print(X_train.shape)\n",
        "print(y_train.shape)"
      ],
      "execution_count": 505,
      "outputs": [
        {
          "output_type": "stream",
          "name": "stdout",
          "text": [
            "(4467, 8)\n",
            "(4467,)\n"
          ]
        }
      ]
    },
    {
      "cell_type": "markdown",
      "metadata": {
        "id": "eF7n2IQh5Pfu"
      },
      "source": [
        "### Random Forest with a single validation data"
      ]
    },
    {
      "cell_type": "code",
      "metadata": {
        "colab": {
          "base_uri": "https://localhost:8080/",
          "height": 333
        },
        "id": "VxpA7XRlkXWX",
        "outputId": "aba3e6e6-ca06-4217-84db-7f9f2726b1cf"
      },
      "source": [
        "from sklearn import tree\n",
        "from sklearn.metrics import f1_score\n",
        "from sklearn.metrics import confusion_matrix\n",
        "from sklearn.metrics import plot_confusion_matrix\n",
        "from sklearn.metrics import precision_recall_fscore_support\n",
        "from sklearn.metrics import r2_score\n",
        "from sklearn.ensemble import RandomForestClassifier\n",
        "\n",
        "clf = RandomForestClassifier(n_estimators=100)\n",
        "clf = clf.fit(X_train, y_train)\n",
        "\n",
        "print(\"Accuracy (in %):\",clf.score(X_test, y_test)*100)\n",
        "\n",
        "y_pred = clf.predict(X_test)\n",
        "print('F1 score', f1_score(y_test, y_pred))\n",
        "\n",
        "plot_confusion_matrix(clf, X_test, y_test)  \n",
        "\n",
        "print('AUC Score = ', roc_auc_score(y_test, clf.predict_proba(X_test)[:, 1]))\n",
        "\n",
        "plt.show()"
      ],
      "execution_count": 506,
      "outputs": [
        {
          "output_type": "stream",
          "name": "stdout",
          "text": [
            "Accuracy (in %): 94.00179051029544\n",
            "F1 score 0.0\n",
            "AUC Score =  0.5836119393994157\n"
          ]
        },
        {
          "output_type": "display_data",
          "data": {
            "image/png": "[encoded data removed]",
            "text/plain": [
              "<Figure size 432x288 with 2 Axes>"
            ]
          },
          "metadata": {}
        }
      ]
    },
    {
      "cell_type": "markdown",
      "metadata": {
        "id": "IeHaHKEFMLmi"
      },
      "source": [
        "> Good accuracy, but poor precision and recall. "
      ]
    },
    {
      "cell_type": "code",
      "metadata": {
        "colab": {
          "base_uri": "https://localhost:8080/",
          "height": 305
        },
        "id": "Huw8sMbB5DjW",
        "outputId": "81d14757-7726-41c2-9939-f2f856745496"
      },
      "source": [
        "# Let's check the feature importance\n",
        "\n",
        "importance=clf.feature_importances_\n",
        "print(importance)\n",
        "plt.bar([x for x in range(len(importance))], importance)\n",
        "plt.show()"
      ],
      "execution_count": 507,
      "outputs": [
        {
          "output_type": "stream",
          "name": "stdout",
          "text": [
            "[0.03932548 0.06921133 0.03349972 0.04054636 0.47670251 0.04313542\n",
            " 0.2453436  0.05223558]\n"
          ]
        },
        {
          "output_type": "display_data",
          "data": {
            "image/png": "[encoded data removed]",
            "text/plain": [
              "<Figure size 432x288 with 1 Axes>"
            ]
          },
          "metadata": {}
        }
      ]
    },
    {
      "cell_type": "markdown",
      "metadata": {
        "id": "P-PJKnyIhIln"
      },
      "source": [
        "# Balancing the classes by undersampling"
      ]
    },
    {
      "cell_type": "code",
      "metadata": {
        "colab": {
          "base_uri": "https://localhost:8080/",
          "height": 200
        },
        "id": "vgNFdf8SnYO3",
        "outputId": "f4187bb1-e854-46bb-c544-509e496d7ab6"
      },
      "source": [
        "from sklearn.model_selection import train_test_split\n",
        "from sklearn.model_selection import StratifiedKFold\n",
        "\n",
        "# Number of fraud classes are fraud_len\n",
        "\n",
        "churn_df = model_df_1[model_df_1['churn'] == 1]\n",
        "churn_len=len(churn_df)\n",
        "non_churn_df = model_df_1[model_df_1['churn'] == 0][:churn_len]\n",
        "\n",
        "balanced_df = pd.concat([churn_df, non_churn_df])\n",
        "\n",
        "# Shuffle \n",
        "new_df = balanced_df.sample(frac=1, random_state=None)\n",
        "\n",
        "new_df.head()"
      ],
      "execution_count": 508,
      "outputs": [
        {
          "output_type": "execute_result",
          "data": {
            "text/html": [
              "<div>\n",
              "<style scoped>\n",
              "    .dataframe tbody tr th:only-of-type {\n",
              "        vertical-align: middle;\n",
              "    }\n",
              "\n",
              "    .dataframe tbody tr th {\n",
              "        vertical-align: top;\n",
              "    }\n",
              "\n",
              "    .dataframe thead th {\n",
              "        text-align: right;\n",
              "    }\n",
              "</style>\n",
              "<table border=\"1\" class=\"dataframe\">\n",
              "  <thead>\n",
              "    <tr style=\"text-align: right;\">\n",
              "      <th></th>\n",
              "      <th>risk_tolerance</th>\n",
              "      <th>investment_experience</th>\n",
              "      <th>liquidity_needs</th>\n",
              "      <th>platform</th>\n",
              "      <th>time_spent</th>\n",
              "      <th>instrument_type_first_traded</th>\n",
              "      <th>first_deposit_amount</th>\n",
              "      <th>time_horizon</th>\n",
              "      <th>user_id</th>\n",
              "      <th>churn</th>\n",
              "    </tr>\n",
              "  </thead>\n",
              "  <tbody>\n",
              "    <tr>\n",
              "      <th>225</th>\n",
              "      <td>0.0</td>\n",
              "      <td>2.0</td>\n",
              "      <td>2.0</td>\n",
              "      <td>2.0</td>\n",
              "      <td>-0.015103</td>\n",
              "      <td>8.0</td>\n",
              "      <td>0.000000</td>\n",
              "      <td>2.0</td>\n",
              "      <td>1399.0</td>\n",
              "      <td>0</td>\n",
              "    </tr>\n",
              "    <tr>\n",
              "      <th>3306</th>\n",
              "      <td>2.0</td>\n",
              "      <td>2.0</td>\n",
              "      <td>2.0</td>\n",
              "      <td>1.0</td>\n",
              "      <td>-0.132727</td>\n",
              "      <td>8.0</td>\n",
              "      <td>-0.111111</td>\n",
              "      <td>2.0</td>\n",
              "      <td>3116.0</td>\n",
              "      <td>1</td>\n",
              "    </tr>\n",
              "    <tr>\n",
              "      <th>2310</th>\n",
              "      <td>0.0</td>\n",
              "      <td>2.0</td>\n",
              "      <td>2.0</td>\n",
              "      <td>0.0</td>\n",
              "      <td>8.799391</td>\n",
              "      <td>8.0</td>\n",
              "      <td>6.444444</td>\n",
              "      <td>1.0</td>\n",
              "      <td>2077.0</td>\n",
              "      <td>1</td>\n",
              "    </tr>\n",
              "    <tr>\n",
              "      <th>4059</th>\n",
              "      <td>0.0</td>\n",
              "      <td>1.0</td>\n",
              "      <td>2.0</td>\n",
              "      <td>0.0</td>\n",
              "      <td>0.433907</td>\n",
              "      <td>3.0</td>\n",
              "      <td>2.000000</td>\n",
              "      <td>0.0</td>\n",
              "      <td>3902.0</td>\n",
              "      <td>1</td>\n",
              "    </tr>\n",
              "    <tr>\n",
              "      <th>4802</th>\n",
              "      <td>2.0</td>\n",
              "      <td>2.0</td>\n",
              "      <td>2.0</td>\n",
              "      <td>2.0</td>\n",
              "      <td>-0.141225</td>\n",
              "      <td>1.0</td>\n",
              "      <td>4.222222</td>\n",
              "      <td>0.0</td>\n",
              "      <td>2157.0</td>\n",
              "      <td>1</td>\n",
              "    </tr>\n",
              "  </tbody>\n",
              "</table>\n",
              "</div>"
            ],
            "text/plain": [
              "      risk_tolerance  investment_experience  ...  user_id  churn\n",
              "225              0.0                    2.0  ...   1399.0      0\n",
              "3306             2.0                    2.0  ...   3116.0      1\n",
              "2310             0.0                    2.0  ...   2077.0      1\n",
              "4059             0.0                    1.0  ...   3902.0      1\n",
              "4802             2.0                    2.0  ...   2157.0      1\n",
              "\n",
              "[5 rows x 10 columns]"
            ]
          },
          "metadata": {},
          "execution_count": 508
        }
      ]
    },
    {
      "cell_type": "code",
      "metadata": {
        "colab": {
          "base_uri": "https://localhost:8080/",
          "height": 317
        },
        "id": "4bebBrovnvzU",
        "outputId": "78008dcd-c607-445b-c535-3cc16ab283ad"
      },
      "source": [
        "# Classes balanced\n",
        "\n",
        "sns.set_theme(style=\"darkgrid\")\n",
        "sns.countplot(data=new_df, x='churn')\n",
        "plt.title('Class Distributions \\n (0: No Churn | 1: Churn)', fontsize=14)\n",
        "plt.show()"
      ],
      "execution_count": 509,
      "outputs": [
        {
          "output_type": "display_data",
          "data": {
            "image/png": "[encoded data removed]",
            "text/plain": [
              "<Figure size 432x288 with 1 Axes>"
            ]
          },
          "metadata": {}
        }
      ]
    },
    {
      "cell_type": "code",
      "metadata": {
        "colab": {
          "base_uri": "https://localhost:8080/"
        },
        "id": "bWqkfjjnn6QJ",
        "outputId": "e75277a2-b366-4835-f206-d99003e2dbcd"
      },
      "source": [
        "X=new_df.drop(columns = ['churn', 'user_id'], axis=1)\n",
        "y=new_df['churn']\n",
        "\n",
        "X_train, X_test, y_train, y_test = train_test_split(X, y, test_size=0.2, random_state=42)\n",
        "\n",
        "print(X_train.shape)\n",
        "print(X_test.shape)"
      ],
      "execution_count": 510,
      "outputs": [
        {
          "output_type": "stream",
          "name": "stdout",
          "text": [
            "(459, 8)\n",
            "(115, 8)\n"
          ]
        }
      ]
    },
    {
      "cell_type": "code",
      "metadata": {
        "colab": {
          "base_uri": "https://localhost:8080/",
          "height": 337
        },
        "id": "_UMFReD39XVS",
        "outputId": "eddd7fee-c0d5-4e5f-fa02-30cf297547bb"
      },
      "source": [
        "from sklearn.ensemble import RandomForestClassifier\n",
        "\n",
        "clf = RandomForestClassifier(n_estimators=200)\n",
        "clf = clf.fit(X_train, y_train)\n",
        "\n",
        "print(\"Accuracy (in %):\",clf.score(X_test, y_test)*100)\n",
        "\n",
        "y_pred = clf.predict(X_test)\n",
        "print('F1 score', f1_score(y_test, y_pred))\n",
        "\n",
        "plot_confusion_matrix(clf, X_test, y_test)  \n",
        "\n",
        "print('AUC Score = ', roc_auc_score(y_test, clf.predict_proba(X_test)[:, 1]))\n",
        "\n",
        "plt.show()"
      ],
      "execution_count": 514,
      "outputs": [
        {
          "output_type": "stream",
          "name": "stdout",
          "text": [
            "Accuracy (in %): 49.56521739130435\n",
            "F1 score 0.532258064516129\n",
            "AUC Score =  0.4758015728977617\n"
          ]
        },
        {
          "output_type": "display_data",
          "data": {
            "image/png": "[encoded data removed]",
            "text/plain": [
              "<Figure size 432x288 with 2 Axes>"
            ]
          },
          "metadata": {}
        }
      ]
    },
    {
      "cell_type": "code",
      "metadata": {
        "colab": {
          "base_uri": "https://localhost:8080/",
          "height": 337
        },
        "id": "06HLljui9xPZ",
        "outputId": "6564172b-5c24-4b6a-a5f2-6e242ddd7853"
      },
      "source": [
        "from sklearn.ensemble import AdaBoostClassifier\n",
        "\n",
        "clf = AdaBoostClassifier(n_estimators=200, random_state=0)\n",
        "\n",
        "clf.fit(X_train, y_train)\n",
        "print(\"Accuracy (in %):\",clf.score(X_test, y_test)*100)\n",
        "\n",
        "y_pred = clf.predict(X_test)\n",
        "print('F1 score', f1_score(y_test, y_pred))\n",
        "\n",
        "plot_confusion_matrix(clf, X_test, y_test)  \n",
        "\n",
        "print('AUC Score = ', roc_auc_score(y_test, clf.predict_proba(X_test)[:, 1]))\n",
        "\n",
        "plt.show()"
      ],
      "execution_count": 512,
      "outputs": [
        {
          "output_type": "stream",
          "name": "stdout",
          "text": [
            "Accuracy (in %): 53.91304347826087\n",
            "F1 score 0.5309734513274337\n",
            "AUC Score =  0.5314579552329098\n"
          ]
        },
        {
          "output_type": "display_data",
          "data": {
            "image/png": "[encoded data removed]",
            "text/plain": [
              "<Figure size 432x288 with 2 Axes>"
            ]
          },
          "metadata": {}
        }
      ]
    },
    {
      "cell_type": "code",
      "metadata": {
        "colab": {
          "base_uri": "https://localhost:8080/",
          "height": 303
        },
        "id": "skSctytiQuk4",
        "outputId": "e20329db-a965-4cbd-cb44-c663e9a664e0"
      },
      "source": [
        "# Let's check the feature importance\n",
        "\n",
        "importance=clf.feature_importances_\n",
        "print(importance)\n",
        "plt.bar([x for x in range(len(importance))], importance)\n",
        "plt.show()"
      ],
      "execution_count": 516,
      "outputs": [
        {
          "output_type": "stream",
          "name": "stdout",
          "text": [
            "[0.05968032 0.08542719 0.05050486 0.06558335 0.33431396 0.04874275\n",
            " 0.28910415 0.06664341]\n"
          ]
        },
        {
          "output_type": "display_data",
          "data": {
            "image/png": "[encoded data removed]",
            "text/plain": [
              "<Figure size 432x288 with 1 Axes>"
            ]
          },
          "metadata": {}
        }
      ]
    },
    {
      "cell_type": "markdown",
      "metadata": {
        "id": "AoBvSeVBNU7Q"
      },
      "source": [
        "## **Balancing the classes by undersampling improved the performance. However, the F1 score average is still only 0.53. Not good enough.**"
      ]
    },
    {
      "cell_type": "markdown",
      "metadata": {
        "id": "I0vVa_JbCXsK"
      },
      "source": [
        "# SMOTE to oversample the minority classes for better prediction"
      ]
    },
    {
      "cell_type": "code",
      "metadata": {
        "colab": {
          "base_uri": "https://localhost:8080/"
        },
        "id": "C2Pwx-unAiX_",
        "outputId": "e4eaa80f-0eee-43b8-f070-3b86d8494c68"
      },
      "source": [
        "# Oversample and plot imbalanced dataset with SMOTE\n",
        "from collections import Counter\n",
        "from sklearn.datasets import make_classification\n",
        "from imblearn.over_sampling import SMOTE\n",
        "from numpy import where\n",
        "\n",
        "# Imbalanced data reloaded for oversampling\n",
        "\n",
        "X = model_df_1.drop(columns = ['churn', 'user_id'])\n",
        "y = model_df_1['churn']\n",
        "\n",
        "X_train, X_test, y_train, y_test = train_test_split(X, y, test_size=0.2, random_state=42)\n",
        "print(X_train.shape)\n",
        "\n",
        "oversample = SMOTE()\n",
        "X, y = oversample.fit_resample(X, y)\n",
        "\n",
        "X_train, X_test, y_train, y_test = train_test_split(X, y, test_size=0.2, random_state=42)\n",
        "\n",
        "print(X_train.shape)\n"
      ],
      "execution_count": 517,
      "outputs": [
        {
          "output_type": "stream",
          "name": "stdout",
          "text": [
            "(4467, 8)\n",
            "(8475, 8)\n"
          ]
        },
        {
          "output_type": "stream",
          "name": "stderr",
          "text": [
            "/usr/local/lib/python3.7/dist-packages/sklearn/utils/deprecation.py:87: FutureWarning: Function safe_indexing is deprecated; safe_indexing is deprecated in version 0.22 and will be removed in version 0.24.\n",
            "  warnings.warn(msg, category=FutureWarning)\n"
          ]
        }
      ]
    },
    {
      "cell_type": "code",
      "metadata": {
        "colab": {
          "base_uri": "https://localhost:8080/",
          "height": 333
        },
        "id": "qxYqMPzFDL6h",
        "outputId": "50626898-aef3-4628-e2c2-6d2bbcc99109"
      },
      "source": [
        "from sklearn.ensemble import RandomForestClassifier\n",
        "\n",
        "clf = RandomForestClassifier(n_estimators=200)\n",
        "clf = clf.fit(X_train, y_train)\n",
        "\n",
        "print(\"Accuracy (in %):\",clf.score(X_test, y_test)*100)\n",
        "\n",
        "y_pred = clf.predict(X_test)\n",
        "print('F1 score', f1_score(y_test, y_pred))\n",
        "\n",
        "plot_confusion_matrix(clf, X_test, y_test)  \n",
        "\n",
        "print('AUC Score = ', roc_auc_score(y_test, clf.predict_proba(X_test)[:, 1]))\n",
        "\n",
        "plt.show()"
      ],
      "execution_count": 518,
      "outputs": [
        {
          "output_type": "stream",
          "name": "stdout",
          "text": [
            "Accuracy (in %): 93.72345445965078\n",
            "F1 score 0.9356555394291243\n",
            "AUC Score =  0.9826545035193631\n"
          ]
        },
        {
          "output_type": "display_data",
          "data": {
            "image/png": "[encoded data removed]",
            "text/plain": [
              "<Figure size 432x288 with 2 Axes>"
            ]
          },
          "metadata": {}
        }
      ]
    },
    {
      "cell_type": "code",
      "metadata": {
        "colab": {
          "base_uri": "https://localhost:8080/",
          "height": 300
        },
        "id": "IZOtx75-PLpc",
        "outputId": "1c85fd59-b17b-40aa-e2b6-22e9196c9dd2"
      },
      "source": [
        "# Let's check the feature importance\n",
        "\n",
        "importance=clf.feature_importances_\n",
        "print(importance)\n",
        "plt.bar([x for x in range(len(importance))], importance)\n",
        "plt.show()"
      ],
      "execution_count": 519,
      "outputs": [
        {
          "output_type": "stream",
          "name": "stdout",
          "text": [
            "[0.06438739 0.12089371 0.07073948 0.06699827 0.26225248 0.03254463\n",
            " 0.30670092 0.07548312]\n"
          ]
        },
        {
          "output_type": "display_data",
          "data": {
            "image/png": "[encoded data removed]",
            "text/plain": [
              "<Figure size 432x288 with 1 Axes>"
            ]
          },
          "metadata": {}
        }
      ]
    },
    {
      "cell_type": "code",
      "metadata": {
        "id": "7ft5donuPolg"
      },
      "source": [
        ""
      ],
      "execution_count": null,
      "outputs": []
    }
  ]
}